{
 "cells": [
  {
   "cell_type": "code",
   "execution_count": 1,
   "id": "d8905955",
   "metadata": {},
   "outputs": [
    {
     "name": "stdout",
     "output_type": "stream",
     "text": [
      "length is in cm:10\n",
      "breath is in cm:10\n",
      "Your area of rectangle is: 100 cm^2\n"
     ]
    }
   ],
   "source": [
    "#1. Wap Area of Rectangle\n",
    "l=int(input(\"length is in cm:\"))\n",
    "b=int(input(\"breath is in cm:\"))\n",
    "area=l*b\n",
    "print(\"Your area of rectangle is:\",area,\"cm^2\")"
   ]
  },
  {
   "cell_type": "code",
   "execution_count": 2,
   "id": "79eebcc7",
   "metadata": {},
   "outputs": [
    {
     "name": "stdout",
     "output_type": "stream",
     "text": [
      "Enter your radius7\n",
      "Your area of circle is: 154.0\n"
     ]
    }
   ],
   "source": [
    "#2. Wap area of circle\n",
    "r=int(input(\"Enter your radius\"))\n",
    "area=22/7*(r*r)\n",
    "print(\"Your area of circle is:\",area)"
   ]
  },
  {
   "cell_type": "code",
   "execution_count": 3,
   "id": "f37c7c69",
   "metadata": {},
   "outputs": [
    {
     "name": "stdout",
     "output_type": "stream",
     "text": [
      "Enter a lenght:2\n",
      "Enter a breadth :2\n",
      "Enter a height :4\n",
      "Your area of cuboid is: 20\n"
     ]
    }
   ],
   "source": [
    "#3 wap area of cuboid\n",
    "l=int(input(\"Enter a lenght:\"))\n",
    "b=int(input(\"Enter a breadth :\"))\n",
    "h=int(input(\"Enter a height :\"))\n",
    "area=l*b+b*h+h*l\n",
    "print(\"Your area of cuboid is:\",area)"
   ]
  },
  {
   "cell_type": "code",
   "execution_count": 4,
   "id": "3ece682a",
   "metadata": {},
   "outputs": [
    {
     "name": "stdout",
     "output_type": "stream",
     "text": [
      "Enter radius5\n",
      "Your area of cube is: 150\n"
     ]
    }
   ],
   "source": [
    "#4 wap area of cube\n",
    "a=int(input(\"Enter radius\"))\n",
    "area=6*(a**2)\n",
    "print(\"Your area of cube is:\",area)"
   ]
  },
  {
   "cell_type": "code",
   "execution_count": 5,
   "id": "4345f36c",
   "metadata": {},
   "outputs": [
    {
     "name": "stdout",
     "output_type": "stream",
     "text": [
      "Enter radius7\n",
      "Enter height9\n",
      "Area of cylinder is: 395.64000000000004\n"
     ]
    }
   ],
   "source": [
    "#5 wap area of csa of cylinder\n",
    "r=int(input(\"Enter radius\"))\n",
    "h=int(input(\"Enter height\"))\n",
    "area=2*(3.14*(r*h))\n",
    "print(\"Area of cylinder is:\",area)"
   ]
  },
  {
   "cell_type": "code",
   "execution_count": 6,
   "id": "338616d6",
   "metadata": {},
   "outputs": [
    {
     "name": "stdout",
     "output_type": "stream",
     "text": [
      "Enter radius7\n",
      "Enter height90\n",
      "Your area is area is: 100.48\n"
     ]
    }
   ],
   "source": [
    "#6 Wap area of tsa of cylinder\n",
    "r=int(input(\"Enter radius\"))\n",
    "b=int(input(\"Enter height\"))\n",
    "a=2*3.14*(r+h)\n",
    "print(\"Your area is area is:\",a)"
   ]
  },
  {
   "cell_type": "code",
   "execution_count": 7,
   "id": "a8582b6f",
   "metadata": {},
   "outputs": [
    {
     "name": "stdout",
     "output_type": "stream",
     "text": [
      "Enter radius7\n",
      "Enter lenght9\n",
      "YOUR area of csa cone is: 351.68\n"
     ]
    }
   ],
   "source": [
    "#7 Wap Area of csa of cone\n",
    "r=int(input(\"Enter radius\"))\n",
    "l=int(input(\"Enter lenght\"))\n",
    "area=3.14*r*(l+r)\n",
    "print(\"YOUR area of csa cone is:\",area)"
   ]
  },
  {
   "cell_type": "code",
   "execution_count": 8,
   "id": "c7935cf5",
   "metadata": {},
   "outputs": [
    {
     "name": "stdout",
     "output_type": "stream",
     "text": [
      "Enter radius9\n",
      "TSA of sphere is 1017.36\n"
     ]
    }
   ],
   "source": [
    "#8 Wap area of tsa of right circular cone\n",
    "r=int(input(\"Enter radius\"))\n",
    "a=4*3.14*(r*r)\n",
    "print(\"TSA of sphere is\",a)"
   ]
  },
  {
   "cell_type": "code",
   "execution_count": 9,
   "id": "0f710703",
   "metadata": {},
   "outputs": [
    {
     "name": "stdout",
     "output_type": "stream",
     "text": [
      "Enter radius9\n",
      "Your area of sphere is: 1017.36\n"
     ]
    }
   ],
   "source": [
    "#9 Wap tsa of sphere\n",
    "r=int(input(\"Enter radius\"))\n",
    "a=4*(3.14*(r*r))\n",
    "print(\"Your area of sphere is:\",a)\n"
   ]
  },
  {
   "cell_type": "code",
   "execution_count": 10,
   "id": "83ac6117",
   "metadata": {},
   "outputs": [
    {
     "name": "stdout",
     "output_type": "stream",
     "text": [
      "Enter lenght9\n",
      "Enter breadth7\n",
      "Enter height5\n",
      "Volume of cuboid is: 315\n"
     ]
    }
   ],
   "source": [
    "#10 Wap volume of cuboid\n",
    "l=int(input(\"Enter lenght\"))\n",
    "b=int(input(\"Enter breadth\"))\n",
    "h=int(input(\"Enter height\"))\n",
    "volume=l*b*h\n",
    "print(\"Volume of cuboid is:\",volume)"
   ]
  },
  {
   "cell_type": "code",
   "execution_count": 11,
   "id": "0ad0e946",
   "metadata": {},
   "outputs": [
    {
     "name": "stdout",
     "output_type": "stream",
     "text": [
      "Enter length7\n",
      "Your area of cube: 343\n"
     ]
    }
   ],
   "source": [
    "#11 Wap volumn of cube\n",
    "l=int(input(\"Enter length\"))\n",
    "area=l*l*l\n",
    "print(\"Your area of cube:\",area)\n"
   ]
  },
  {
   "cell_type": "code",
   "execution_count": 12,
   "id": "187a69b3",
   "metadata": {},
   "outputs": [
    {
     "name": "stdout",
     "output_type": "stream",
     "text": [
      "Enter radius5\n",
      "Enter height7\n",
      "Volume is : 392.5\n"
     ]
    }
   ],
   "source": [
    "#12 wap volumn of cylinder\n",
    "r=int(input(\"Enter radius\"))\n",
    "b=int(input(\"Enter height\"))\n",
    "volume=3.14*(r*r)*h\n",
    "print(\"Volume is :\",volume)"
   ]
  },
  {
   "cell_type": "code",
   "execution_count": 13,
   "id": "3570d683",
   "metadata": {},
   "outputs": [
    {
     "name": "stdout",
     "output_type": "stream",
     "text": [
      "Enter radius5\n",
      "Your sphere volumn is: 523.3333333333333\n"
     ]
    }
   ],
   "source": [
    "#13 wap volume of sphere\n",
    "r=int(input(\"Enter radius\"))\n",
    "volume=4/3*(3.14*(r*r*r))\n",
    "print(\"Your sphere volumn is:\",volume)"
   ]
  },
  {
   "cell_type": "code",
   "execution_count": 14,
   "id": "6a257b7d",
   "metadata": {},
   "outputs": [
    {
     "name": "stdout",
     "output_type": "stream",
     "text": [
      "Enter radius7\n",
      "Enter height5\n",
      "Volumn of cone is : 256.43333333333334\n"
     ]
    }
   ],
   "source": [
    "#14 wap volumn of cone\n",
    "r=int(input(\"Enter radius\"))\n",
    "h=int(input(\"Enter height\"))\n",
    "volume=1/3*(3.14*(r*r)*h)\n",
    "print(\"Volumn of cone is :\",volume)"
   ]
  },
  {
   "cell_type": "code",
   "execution_count": 15,
   "id": "d2e092a7",
   "metadata": {},
   "outputs": [
    {
     "name": "stdout",
     "output_type": "stream",
     "text": [
      "Enter length in cm9\n",
      "Enter breadth in cm12\n",
      "perimeter of rectangle is : 1017.36 cm\n"
     ]
    }
   ],
   "source": [
    "# 15 Wap perimeter of rectangle\n",
    "l=int(input(\"Enter length in cm\"))\n",
    "b=int(input(\"Enter breadth in cm\"))\n",
    "area=2*(l+b)\n",
    "print(\"perimeter of rectangle is :\",a,\"cm\")"
   ]
  },
  {
   "cell_type": "code",
   "execution_count": 16,
   "id": "fe92cbaf",
   "metadata": {},
   "outputs": [
    {
     "name": "stdout",
     "output_type": "stream",
     "text": [
      "Enter a length in cm12\n",
      "Your area of square is 144 cm^2\n"
     ]
    }
   ],
   "source": [
    "#16 Wap area of square\n",
    "a=int(input(\"Enter a length in cm\"))\n",
    "x=a*a\n",
    "print(\"Your area of square is\",x,\"cm^2\")"
   ]
  },
  {
   "cell_type": "code",
   "execution_count": 17,
   "id": "3cd5ecde",
   "metadata": {},
   "outputs": [
    {
     "name": "stdout",
     "output_type": "stream",
     "text": [
      "Enter height12\n",
      "Enter base12\n",
      "Your area is: 72.0 cm^2\n"
     ]
    }
   ],
   "source": [
    "## 17 Wap area of rectangle\n",
    "h=int(input(\"Enter height\"))\n",
    "b=int(input(\"Enter base\"))\n",
    "a=1/2*(b*h)\n",
    "print(\"Your area is:\",a,\"cm^2\")"
   ]
  },
  {
   "cell_type": "code",
   "execution_count": 18,
   "id": "2628ce05",
   "metadata": {},
   "outputs": [
    {
     "name": "stdout",
     "output_type": "stream",
     "text": [
      "Enter first no:12\n",
      "Enter second no:14\n",
      "Enter third no:15\n",
      "The greatest no is: 15\n"
     ]
    }
   ],
   "source": [
    "# 18 Wap greatest no in three no\n",
    "a=int(input(\"Enter first no:\"))\n",
    "b=int(input(\"Enter second no:\"))\n",
    "c=int(input(\"Enter third no:\"))\n",
    "if a>b:\n",
    "    if a>c:\n",
    "        print(\"Greatest no is:\",a)\n",
    "    else:\n",
    "        print(\"The greatest no is:\",c)\n",
    "else:\n",
    "    if b>c:\n",
    "        print(\"The gretest no is:\",b)\n",
    "    else:\n",
    "        print(\"The greatest no is:\",c)"
   ]
  },
  {
   "cell_type": "code",
   "execution_count": 19,
   "id": "5f47e0c4",
   "metadata": {},
   "outputs": [
    {
     "name": "stdout",
     "output_type": "stream",
     "text": [
      "Enter first side of triangle:17\n",
      "Enter second side of triangle:19\n",
      "Enter third side of triangle:10\n",
      "Triangle perimeter : 46\n"
     ]
    }
   ],
   "source": [
    "#19 wap a perimeter of triangle\n",
    "a=int(input(\"Enter first side of triangle:\"))\n",
    "b=int(input(\"Enter second side of triangle:\"))\n",
    "c=int(input(\"Enter third side of triangle:\"))\n",
    "perimeter=a+b+c\n",
    "print(\"Triangle perimeter :\",perimeter)"
   ]
  },
  {
   "cell_type": "code",
   "execution_count": 20,
   "id": "0562d555",
   "metadata": {},
   "outputs": [
    {
     "name": "stdout",
     "output_type": "stream",
     "text": [
      "Enter a first no10\n",
      "Enter a second no19\n",
      "Enter a third no14\n",
      "Enter a fourth no25\n",
      "Greatest number is : 25.0\n"
     ]
    }
   ],
   "source": [
    "#20 Wap Greatest no in four no.\n",
    "a=float(input(\"Enter a first no\"))\n",
    "b=float(input(\"Enter a second no\"))\n",
    "c=float(input(\"Enter a third no\"))\n",
    "d=float(input(\"Enter a fourth no\"))\n",
    "\n",
    "if (a>b and a>c and a>d):\n",
    "    print(\"Greatest number is :\",a)\n",
    "elif (b>c and b>d):\n",
    "    print(\"Greatest number is :\",b)\n",
    "elif (c>d):\n",
    "    print(\"Greatest number is :\",c)\n",
    "elif (d>c):\n",
    "    print(\"Greatest number is :\",d)\n",
    "    \n",
    "else:\n",
    "    print(\"Either any two values or all the four value are equal\")\n",
    "    \n",
    "    "
   ]
  },
  {
   "cell_type": "code",
   "execution_count": 21,
   "id": "253ea2de",
   "metadata": {},
   "outputs": [
    {
     "name": "stdout",
     "output_type": "stream",
     "text": [
      "Enter marks out of 300 :250\n",
      "Your division is first\n"
     ]
    }
   ],
   "source": [
    "#21 wap to check division in result\n",
    "a=int(input(\"Enter marks out of 300 :\"))\n",
    "b=a/300*100\n",
    "if a>300:\n",
    "    print(\"You entered wrong marks\")\n",
    "elif b>60:\n",
    "    print(\"Your division is first\")\n",
    "elif (b>50 and b>53):\n",
    "    print(\"Your division is second\")\n",
    "elif (b>33 and b>50):\n",
    "    print(\"Your division is Third\")\n",
    "else:\n",
    "        print(\"fail\")"
   ]
  },
  {
   "cell_type": "code",
   "execution_count": 22,
   "id": "67780f92",
   "metadata": {},
   "outputs": [
    {
     "name": "stdout",
     "output_type": "stream",
     "text": [
      "Enter your age is45\n",
      "Senior citizen\n"
     ]
    }
   ],
   "source": [
    "#22 wap to check Age criteria\n",
    "y=int(input(\"Enter your age is\"))\n",
    "if (y>0 and y<12):\n",
    "    print(\"kid\")\n",
    "elif (y>=12 and y<19):\n",
    "    print(\"teenager\")\n",
    "elif (y>19 and y<30):\n",
    "    print(\"Young\") \n",
    "elif (y>30 and y<45):\n",
    "    print(\"mature\")\n",
    "elif (y>45 and y<60):\n",
    "    print(\"experienced\")\n",
    "elif (y>60 and y<75):\n",
    "    print(\"old\")\n",
    "else:\n",
    "    print(\"Senior citizen\")\n",
    "    "
   ]
  },
  {
   "cell_type": "code",
   "execution_count": 23,
   "id": "98366a50",
   "metadata": {},
   "outputs": [
    {
     "name": "stdout",
     "output_type": "stream",
     "text": [
      "Enter limit:7\n",
      "The sum is  21\n"
     ]
    }
   ],
   "source": [
    "#23 wap sum of nth No\n",
    "n=int(input(\"Enter limit:\"))\n",
    "s=0\n",
    "for c in range(1,n):\n",
    "    s=c+s\n",
    "print(\"The sum is \",s)"
   ]
  },
  {
   "cell_type": "code",
   "execution_count": 24,
   "id": "a92b8cec",
   "metadata": {},
   "outputs": [
    {
     "name": "stdout",
     "output_type": "stream",
     "text": [
      "Enter  a number7\n",
      "The factorial of  7 is 5040\n"
     ]
    }
   ],
   "source": [
    "#24 Wap to check the value of factorial\n",
    "\n",
    "a=int(input(\"Enter  a number\"))\n",
    "factorial=1\n",
    "if a<0:\n",
    "    print(\"Sorry, factorial does not exist the negative number\")\n",
    "elif a==0:\n",
    "    print(\"The factorial of i is 1\")\n",
    "else:\n",
    "    for i in range(1,a+1):\n",
    "        factorial=factorial*i\n",
    "    print(\"The factorial of \",a,\"is\",factorial)\n",
    "    "
   ]
  },
  {
   "cell_type": "code",
   "execution_count": 25,
   "id": "4b788e62",
   "metadata": {},
   "outputs": [
    {
     "name": "stdout",
     "output_type": "stream",
     "text": [
      "Show the multiplication table:19\n",
      "19 X 1 = 19\n",
      "19 X 2 = 38\n",
      "19 X 3 = 57\n",
      "19 X 4 = 76\n",
      "19 X 5 = 95\n",
      "19 X 6 = 114\n",
      "19 X 7 = 133\n",
      "19 X 8 = 152\n",
      "19 X 9 = 171\n",
      "19 X 10 = 190\n"
     ]
    }
   ],
   "source": [
    "#25  Wap to print multiplication table\n",
    "a=int(input(\"Show the multiplication table:\"))\n",
    "for i in range(1,11):\n",
    "    print(a,\"X\",i,'=',a*i)\n",
    "    \n",
    "    "
   ]
  },
  {
   "cell_type": "code",
   "execution_count": 26,
   "id": "aa339560",
   "metadata": {},
   "outputs": [
    {
     "name": "stdout",
     "output_type": "stream",
     "text": [
      "Enter the number rows5\n",
      "*****\n",
      "****\n",
      "***\n",
      "**\n",
      "*\n"
     ]
    }
   ],
   "source": [
    "#26 Wap to print opposite right angle triangle\n",
    "\n",
    "num=int(input(\"Enter the number rows\"))\n",
    "for i in range(num,0,-1):\n",
    "    for j in range(i):\n",
    "        print(\"*\",end=\"\")\n",
    "    print()\n",
    "    "
   ]
  },
  {
   "cell_type": "code",
   "execution_count": 27,
   "id": "32c91298",
   "metadata": {},
   "outputs": [
    {
     "name": "stdout",
     "output_type": "stream",
     "text": [
      "Enter number of rows: 7\n",
      "1\n",
      "22\n",
      "333\n",
      "4444\n",
      "55555\n",
      "666666\n",
      "7777777\n"
     ]
    }
   ],
   "source": [
    "#27 Wap to prit 1,22,333,4444,55555\n",
    "\n",
    "n = int(input(\"Enter number of rows: \"))\n",
    "\n",
    "for i in range(1,n+1):\n",
    "    for j in range(1, i+1):\n",
    "        print(i, end=\"\")\n",
    "    print()"
   ]
  },
  {
   "cell_type": "code",
   "execution_count": 28,
   "id": "cdf6a693",
   "metadata": {},
   "outputs": [
    {
     "name": "stdout",
     "output_type": "stream",
     "text": [
      "Enter the number rows9\n",
      "         *\n",
      "        **\n",
      "       ***\n",
      "      ****\n",
      "     *****\n",
      "    ******\n",
      "   *******\n",
      "  ********\n",
      " *********\n"
     ]
    }
   ],
   "source": [
    "#28 Wap to print star pattern of opposite triangle\n",
    "num=int(input(\"Enter the number rows\"))\n",
    "for i in range(0,num):\n",
    "    for j in range(0,num-i):\n",
    "        print(\" \",end=\"\")\n",
    "    for k in range(0,i+1):\n",
    "        print(\"*\",end=\"\")\n",
    "    print(\"\")"
   ]
  },
  {
   "cell_type": "code",
   "execution_count": 29,
   "id": "af576c2e",
   "metadata": {},
   "outputs": [
    {
     "name": "stdout",
     "output_type": "stream",
     "text": [
      "Enter the no of rows5\n",
      "1\n",
      "12\n",
      "123\n",
      "1234\n",
      "12345\n"
     ]
    }
   ],
   "source": [
    "#29 Wap to print pattern 1,12,123,1234,12345\n",
    "n=int(input(\"Enter the no of rows\"))\n",
    "for i in range(1,n+1):\n",
    "    for j in range(1,i+1):\n",
    "        print(j,end=\"\")\n",
    "    print()"
   ]
  },
  {
   "cell_type": "code",
   "execution_count": 30,
   "id": "93bff99c",
   "metadata": {},
   "outputs": [
    {
     "name": "stdout",
     "output_type": "stream",
     "text": [
      "Enter a value range5\n",
      "0\n",
      "1\n",
      "1\n",
      "2\n",
      "3\n",
      "5\n",
      "8\n",
      "13\n",
      "21\n",
      "34\n",
      "55\n",
      "89\n",
      "144\n",
      "233\n",
      "377\n",
      "610\n",
      "987\n",
      "1597\n",
      "2584\n"
     ]
    }
   ],
   "source": [
    "#30 WAP OF PRINT FIBONACCI SERIES USE WHILE LOOP \n",
    "e=eval(input(\"Enter a value range\"))\n",
    "i=0\n",
    "f_i=0\n",
    "s_i=1\n",
    "while(i<a):\n",
    "    if(i<=1):\n",
    "        next=i\n",
    "    else:\n",
    "        next=f_i+s_i\n",
    "        f_i=s_i\n",
    "        s_i=next\n",
    "    print(next)\n",
    "    i=i+1\n",
    "    \n"
   ]
  },
  {
   "cell_type": "code",
   "execution_count": 31,
   "id": "4bbd395b",
   "metadata": {},
   "outputs": [
    {
     "name": "stdout",
     "output_type": "stream",
     "text": [
      "Enter a value range7\n",
      "0\n",
      "1\n",
      "1\n",
      "2\n",
      "3\n",
      "5\n",
      "8\n"
     ]
    }
   ],
   "source": [
    "#31 WAP TO PRINT FIBONACCI SERIES USE FOR LOOP \n",
    "e=eval(input(\"Enter a value range\"))\n",
    "i=0\n",
    "f_i=0\n",
    "s_i=1\n",
    "for i in range(0,e):\n",
    "    if(i<=1):\n",
    "        next=i\n",
    "    else:\n",
    "        next=f_i+s_i\n",
    "        f_i=s_i\n",
    "        s_i=next\n",
    "    print(next)\n",
    " \n",
    "    "
   ]
  },
  {
   "cell_type": "code",
   "execution_count": 32,
   "id": "1a39ac13",
   "metadata": {},
   "outputs": [
    {
     "name": "stdout",
     "output_type": "stream",
     "text": [
      "each a characterd\n",
      "A\n",
      "AB\n",
      "ABC\n",
      "ABCD\n",
      "ABCDE\n",
      "ABCDEF\n",
      "ABCDEFG\n",
      "ABCDEFGH\n",
      "ABCDEFGHI\n",
      "ABCDEFGHIJ\n",
      "ABCDEFGHIJK\n",
      "ABCDEFGHIJKL\n",
      "ABCDEFGHIJKLM\n",
      "ABCDEFGHIJKLMN\n",
      "ABCDEFGHIJKLMNO\n",
      "ABCDEFGHIJKLMNOP\n",
      "ABCDEFGHIJKLMNOPQ\n",
      "ABCDEFGHIJKLMNOPQR\n",
      "ABCDEFGHIJKLMNOPQRS\n",
      "ABCDEFGHIJKLMNOPQRST\n",
      "ABCDEFGHIJKLMNOPQRSTU\n",
      "ABCDEFGHIJKLMNOPQRSTUV\n",
      "ABCDEFGHIJKLMNOPQRSTUVW\n",
      "ABCDEFGHIJKLMNOPQRSTUVWX\n",
      "ABCDEFGHIJKLMNOPQRSTUVWXY\n",
      "ABCDEFGHIJKLMNOPQRSTUVWXYZ\n",
      "ABCDEFGHIJKLMNOPQRSTUVWXYZ[\n",
      "ABCDEFGHIJKLMNOPQRSTUVWXYZ[\\\n",
      "ABCDEFGHIJKLMNOPQRSTUVWXYZ[\\]\n",
      "ABCDEFGHIJKLMNOPQRSTUVWXYZ[\\]^\n",
      "ABCDEFGHIJKLMNOPQRSTUVWXYZ[\\]^_\n",
      "ABCDEFGHIJKLMNOPQRSTUVWXYZ[\\]^_`\n",
      "ABCDEFGHIJKLMNOPQRSTUVWXYZ[\\]^_`a\n",
      "ABCDEFGHIJKLMNOPQRSTUVWXYZ[\\]^_`ab\n",
      "ABCDEFGHIJKLMNOPQRSTUVWXYZ[\\]^_`abc\n",
      "ABCDEFGHIJKLMNOPQRSTUVWXYZ[\\]^_`abcd\n"
     ]
    }
   ],
   "source": [
    "# 32- WAP TO PRINT PATTERN A,AB,ABC \n",
    "ch=str(input(\"each a character\"))\n",
    "a=ord(ch)\n",
    "for x in range(65,a+1):\n",
    "    for c in range(65,x+1):\n",
    "        print(chr(c),end=\"\")\n",
    "    print(\"\")"
   ]
  },
  {
   "cell_type": "code",
   "execution_count": 33,
   "id": "706d0ec0",
   "metadata": {},
   "outputs": [
    {
     "name": "stdout",
     "output_type": "stream",
     "text": [
      "Enter no7\n",
      "Enter power9\n",
      "40353607\n"
     ]
    }
   ],
   "source": [
    "#33-WAP TO CALCULATION OF Xn  BY FOR LOOP \n",
    "x=int(input(\"Enter no\"))\n",
    "b=int(input(\"Enter power\"))\n",
    "y=x\n",
    "for a in range(0,b-1):\n",
    "    y=x*y\n",
    "print(y)"
   ]
  },
  {
   "cell_type": "code",
   "execution_count": 34,
   "id": "f54b63e7",
   "metadata": {},
   "outputs": [
    {
     "name": "stdout",
     "output_type": "stream",
     "text": [
      "Enter a number7\n",
      "Enter a power2\n",
      "Calculation of x^n is 49\n"
     ]
    }
   ],
   "source": [
    "#34-WAP TO CALCULATION OF Xn   \n",
    "a=int(input(\"Enter a number\"))\n",
    "b=int(input(\"Enter a power\"))\n",
    "y=a**b\n",
    "print(\"Calculation of x^n is\",y)"
   ]
  },
  {
   "cell_type": "code",
   "execution_count": 35,
   "id": "d4bcd4d2",
   "metadata": {},
   "outputs": [
    {
     "name": "stdout",
     "output_type": "stream",
     "text": [
      "Enter a number67689\n",
      "The number is not palindrome\n"
     ]
    }
   ],
   "source": [
    "#35-WAP TO PRINT THE INTEGER IS PALINDROME OR NOT  PALINDROME \n",
    "n=int(input(\"Enter a number\"))\n",
    "x=n\n",
    "r=0\n",
    "while n>0:\n",
    "    d=n%10\n",
    "    r=r*10+d\n",
    "    n=n//10\n",
    "if x==r:\n",
    "    print(\"The number is palindrome\")\n",
    "else:\n",
    "    print(\"The number is not palindrome\")\n",
    "    \n"
   ]
  },
  {
   "cell_type": "code",
   "execution_count": 36,
   "id": "787dc8bf",
   "metadata": {},
   "outputs": [
    {
     "name": "stdout",
     "output_type": "stream",
     "text": [
      "Enter the element of list7\n",
      "Do not want to more element :9\n",
      "The list is : [7]\n",
      "The factorial of element : [5040]\n"
     ]
    }
   ],
   "source": [
    "# 35-WAP TO PRINT FACTORIAL OF LIST \n",
    "a=[]\n",
    "fact=[]\n",
    "ch='y'\n",
    "while ch=='y' or ch=='Y':\n",
    "    item=int(input(\"Enter the element of list\"))\n",
    "    a.append(item)\n",
    "    ch=input(\"Do not want to more element :\")\n",
    "    \n",
    "print(\"The list is :\",a)\n",
    "for i in a:\n",
    "    f=1\n",
    "    for j in range(1,i+1):\n",
    "        f=f*j\n",
    "    fact.append(f)\n",
    "print(\"The factorial of element :\",fact)\n",
    "    "
   ]
  },
  {
   "cell_type": "code",
   "execution_count": 37,
   "id": "85a20945",
   "metadata": {},
   "outputs": [
    {
     "name": "stdout",
     "output_type": "stream",
     "text": [
      "Enter rows5\n",
      "    * \n",
      "   * * \n",
      "  * * * \n",
      " * * * * \n",
      "* * * * * \n"
     ]
    }
   ],
   "source": [
    "# 36-WAP TO PRINT PASCAL TRIANGLE \n",
    "n=int(input(\"Enter rows\"))\n",
    "for i in range(0,n):\n",
    "    for j in range(0,n-i-1):\n",
    "        print(end=\" \")\n",
    "    for j in range(0,i+1):\n",
    "        print(\"*\",end=\" \")\n",
    "    print()"
   ]
  },
  {
   "cell_type": "code",
   "execution_count": 40,
   "id": "669c6051",
   "metadata": {},
   "outputs": [
    {
     "name": "stdout",
     "output_type": "stream",
     "text": [
      "Enter limit4\n",
      "Enter element16\n",
      "Enter element12\n",
      "Enter element124\n",
      "Enter element125\n",
      "[16, 12, 124, 125]\n"
     ]
    }
   ],
   "source": [
    "# 37 Wap to create a list of values inputted by user and sort in increasing order\n",
    "a=eval(input(\"Enter limit\"))\n",
    "n=[]\n",
    "for a in range(1,a+1):\n",
    "    a=eval(input(\"Enter element\"))\n",
    "    n.append(a)\n",
    "    \n",
    "print(n)"
   ]
  },
  {
   "cell_type": "code",
   "execution_count": 41,
   "id": "18610bd1",
   "metadata": {},
   "outputs": [
    {
     "name": "stdout",
     "output_type": "stream",
     "text": [
      "Enter limit 5\n",
      "Enter element25\n",
      "Enter element49\n",
      "Enter element81\n",
      "Enter element90\n",
      "Enter element16\n",
      "[25, 49, 81, 90, 16]\n",
      "After sorting the list is :\n",
      "[16, 25, 49, 81, 90]\n"
     ]
    }
   ],
   "source": [
    "#38-WAP TO CREATE A LIST OF VALUES INPUTTED BY USER AND SORT IN INCREASING ORDER\n",
    "a=eval(input(\"Enter limit \"))\n",
    "lst=[]\n",
    "for a in range(1,a+1):\n",
    "    a=eval(input(\"Enter element\"))\n",
    "    lst.append(a)\n",
    "print(lst)\n",
    "l=len(lst)\n",
    "for i in range(l):\n",
    "    for j in range(0,l-i-1):\n",
    "        if lst[j]>lst[j+1]:\n",
    "            temp=lst[j]\n",
    "            lst[j]=lst[j+1]\n",
    "            lst[j+1]=temp\n",
    "print(\"After sorting the list is :\")\n",
    "print(lst)"
   ]
  },
  {
   "cell_type": "code",
   "execution_count": 42,
   "id": "ac295232",
   "metadata": {},
   "outputs": [
    {
     "name": "stdout",
     "output_type": "stream",
     "text": [
      "Enter limit5\n",
      "Enter element7\n",
      "Enter element24\n",
      "Enter element10\n",
      "Enter element21\n",
      "Enter element14\n",
      "[7, 24, 10, 21, 14]\n"
     ]
    },
    {
     "ename": "TypeError",
     "evalue": "object of type 'type' has no len()",
     "output_type": "error",
     "traceback": [
      "\u001b[1;31m---------------------------------------------------------------------------\u001b[0m",
      "\u001b[1;31mTypeError\u001b[0m                                 Traceback (most recent call last)",
      "Cell \u001b[1;32mIn[42], line 8\u001b[0m\n\u001b[0;32m      6\u001b[0m     lst\u001b[38;5;241m.\u001b[39mappend(a)\n\u001b[0;32m      7\u001b[0m \u001b[38;5;28mprint\u001b[39m(lst)\n\u001b[1;32m----> 8\u001b[0m l\u001b[38;5;241m=\u001b[39m\u001b[38;5;28mlen\u001b[39m(\u001b[38;5;28mlist\u001b[39m)\n\u001b[0;32m      9\u001b[0m \u001b[38;5;28;01mfor\u001b[39;00m i \u001b[38;5;129;01min\u001b[39;00m \u001b[38;5;28mrange\u001b[39m(l):\n\u001b[0;32m     10\u001b[0m     \u001b[38;5;28;01mfor\u001b[39;00m j \u001b[38;5;129;01min\u001b[39;00m \u001b[38;5;28mrange\u001b[39m(\u001b[38;5;241m0\u001b[39m,l\u001b[38;5;241m-\u001b[39mi\u001b[38;5;241m-\u001b[39m\u001b[38;5;241m1\u001b[39m):\n",
      "\u001b[1;31mTypeError\u001b[0m: object of type 'type' has no len()"
     ]
    }
   ],
   "source": [
    "#39-Sorting in Accending order use bubble sort\n",
    "a=eval(input(\"Enter limit\"))\n",
    "lst=[]\n",
    "for a in range(1,a+1):\n",
    "    a=eval(input(\"Enter element\"))\n",
    "    lst.append(a)\n",
    "print(lst)\n",
    "l=len(list)\n",
    "for i in range(l):\n",
    "    for j in range(0,l-i-1):\n",
    "        if lst[j]>lst[j+1]:\n",
    "            temp=lst[j]\n",
    "            lst[j]=lst[j+1]\n",
    "            lst[j+1]=temp\n",
    "            \n",
    "print(\"After sorting the list is:\")\n",
    "print(lst)"
   ]
  },
  {
   "cell_type": "code",
   "execution_count": 43,
   "id": "5f14baf5",
   "metadata": {},
   "outputs": [
    {
     "name": "stdout",
     "output_type": "stream",
     "text": [
      "Enter limit2\n",
      "Enter mobile number7038478946\n",
      "Enter nameDhanahsri\n",
      "Enter mobile number8888627259\n",
      "Enter namemallikarjun\n",
      "{7038478946: 'Dhanahsri', 8888627259: 'mallikarjun'}\n",
      "Enter the no to search in dictionary 7038478946\n",
      "The name of person is  Dhanahsri\n"
     ]
    }
   ],
   "source": [
    "#40- Wap in python to create a phone dictionary\n",
    "n=int(input(\"Enter limit\"))\n",
    "m={}\n",
    "mob=0\n",
    "name=\"\"\n",
    "i=0\n",
    "for i in range(0,n):\n",
    "    mob=int(input(\"Enter mobile number\"))\n",
    "    name=str(input(\"Enter name\"))\n",
    "    z2=dict({mob:name})\n",
    "    m.update(z2)\n",
    "print(m)\n",
    "n=int(input(\"Enter the no to search in dictionary \"))\n",
    "print(\"The name of person is \",m[n])\n",
    "\n",
    "    \n"
   ]
  },
  {
   "cell_type": "code",
   "execution_count": 44,
   "id": "f69ad1c6",
   "metadata": {},
   "outputs": [
    {
     "name": "stdout",
     "output_type": "stream",
     "text": [
      "Enter number50\n",
      "50 Is not prime number\n"
     ]
    }
   ],
   "source": [
    "#41 Wap to find given number is prime or not\n",
    "num=int(input(\"Enter number\"))\n",
    "lim=int(num/2)+1\n",
    "for i in range(2,lim):\n",
    "    rem=num%i\n",
    "    if rem==0:\n",
    "        print(num,\"Is not prime number\")\n",
    "        break\n",
    "        \n",
    "else:\n",
    "    print(num,\"is prime number\")\n",
    "    \n",
    "     "
   ]
  },
  {
   "cell_type": "code",
   "execution_count": 45,
   "id": "4009c660",
   "metadata": {},
   "outputs": [
    {
     "name": "stdout",
     "output_type": "stream",
     "text": [
      "Enter number12\n",
      "12 is a even number\n"
     ]
    }
   ],
   "source": [
    "#42-Wap to find Given Number Even or odd\n",
    "a=int(input(\"Enter number\"))\n",
    "r=a%2\n",
    "if r==0:\n",
    "    print(a,\"is a even number\")\n",
    "elif r>0:\n",
    "    print(a,\"is odd number\")\n",
    "else:\n",
    "    print(\"You enter a number 0 or less than 0\")\n",
    "    "
   ]
  },
  {
   "cell_type": "code",
   "execution_count": null,
   "id": "7371f1b5",
   "metadata": {},
   "outputs": [
    {
     "name": "stdout",
     "output_type": "stream",
     "text": [
      "Enter limit5\n"
     ]
    }
   ],
   "source": [
    "#43 -Wap to create a tuple of values inputed by user\n",
    "\n",
    "a={}\n",
    "l=[]\n",
    "n=int(input(\"Enter limit\"))\n",
    "for i in range(0,n):\n",
    "    item=int(input(\"Enter element\"))\n",
    "    l.append(item)\n",
    "    \n",
    "a=a+tuple(l)\n",
    "print(\"tuple is\",a)"
   ]
  },
  {
   "cell_type": "code",
   "execution_count": null,
   "id": "2bce5aa7",
   "metadata": {},
   "outputs": [],
   "source": [
    "#44 -Wap to Reverse an integer\n",
    "\n",
    "n=int(input(\"Enter the integer\"))\n",
    "x=n\n",
    "r=0\n",
    "while n>0:\n",
    "    d=n%10\n",
    "    r=r*0+d\n",
    "    n=n//10\n",
    "print(\"The reversed integer is:\",r)"
   ]
  },
  {
   "cell_type": "code",
   "execution_count": null,
   "id": "456467da",
   "metadata": {},
   "outputs": [],
   "source": []
  }
 ],
 "metadata": {
  "kernelspec": {
   "display_name": "Python 3 (ipykernel)",
   "language": "python",
   "name": "python3"
  },
  "language_info": {
   "codemirror_mode": {
    "name": "ipython",
    "version": 3
   },
   "file_extension": ".py",
   "mimetype": "text/x-python",
   "name": "python",
   "nbconvert_exporter": "python",
   "pygments_lexer": "ipython3",
   "version": "3.11.4"
  }
 },
 "nbformat": 4,
 "nbformat_minor": 5
}
